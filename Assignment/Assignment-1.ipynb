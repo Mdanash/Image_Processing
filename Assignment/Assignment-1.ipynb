{
 "cells": [
  {
   "cell_type": "code",
   "execution_count": 1,
   "id": "d0cf2cad",
   "metadata": {},
   "outputs": [
    {
     "name": "stdout",
     "output_type": "stream",
     "text": [
      "Requirement already satisfied: opencv-python in c:\\users\\aedur\\anaconda3\\envs\\anash_cse_ai\\lib\\site-packages (4.7.0.68)Note: you may need to restart the kernel to use updated packages.\n",
      "\n",
      "Requirement already satisfied: numpy>=1.17.3 in c:\\users\\aedur\\anaconda3\\envs\\anash_cse_ai\\lib\\site-packages (from opencv-python) (1.24.1)\n"
     ]
    }
   ],
   "source": [
    "pip install opencv-python"
   ]
  },
  {
   "cell_type": "code",
   "execution_count": 2,
   "id": "fb299118",
   "metadata": {},
   "outputs": [],
   "source": [
    "import cv2\n",
    "import numpy as np"
   ]
  },
  {
   "cell_type": "markdown",
   "id": "37a73b09",
   "metadata": {},
   "source": [
    "# Importing Image"
   ]
  },
  {
   "cell_type": "code",
   "execution_count": 3,
   "id": "1fb931d3",
   "metadata": {},
   "outputs": [],
   "source": [
    "img=cv2.imread(\"tiger.jpg\")"
   ]
  },
  {
   "cell_type": "code",
   "execution_count": 4,
   "id": "d5fa0526",
   "metadata": {},
   "outputs": [
    {
     "data": {
      "text/plain": [
       "-1"
      ]
     },
     "execution_count": 4,
     "metadata": {},
     "output_type": "execute_result"
    }
   ],
   "source": [
    "cv2.imshow(\"original image\",img)\n",
    "cv2.waitKey(0)"
   ]
  },
  {
   "cell_type": "markdown",
   "id": "164ba978",
   "metadata": {},
   "source": [
    "# Greyscale Image"
   ]
  },
  {
   "cell_type": "code",
   "execution_count": 5,
   "id": "2b0bfed5",
   "metadata": {},
   "outputs": [],
   "source": [
    "grey=cv2.imread(\"tiger.jpg\",0)"
   ]
  },
  {
   "cell_type": "code",
   "execution_count": 6,
   "id": "8af43d95",
   "metadata": {},
   "outputs": [
    {
     "data": {
      "text/plain": [
       "-1"
      ]
     },
     "execution_count": 6,
     "metadata": {},
     "output_type": "execute_result"
    }
   ],
   "source": [
    "cv2.imshow(\"greyscale image\",grey)\n",
    "cv2.waitKey(0)"
   ]
  },
  {
   "cell_type": "code",
   "execution_count": 7,
   "id": "6fa8b752",
   "metadata": {},
   "outputs": [
    {
     "data": {
      "text/plain": [
       "True"
      ]
     },
     "execution_count": 7,
     "metadata": {},
     "output_type": "execute_result"
    }
   ],
   "source": [
    "cv2.imwrite(\"C:/Users/aedur/ANASH_CSE_AI/Assignment-1/Grey.jpg\",grey)"
   ]
  },
  {
   "cell_type": "markdown",
   "id": "063248e7",
   "metadata": {},
   "source": [
    "# Image Shape"
   ]
  },
  {
   "cell_type": "code",
   "execution_count": 8,
   "id": "3b5083d3",
   "metadata": {},
   "outputs": [
    {
     "name": "stdout",
     "output_type": "stream",
     "text": [
      "(531, 850, 3)\n"
     ]
    }
   ],
   "source": [
    "shape=img.shape\n",
    "print(shape)"
   ]
  },
  {
   "cell_type": "markdown",
   "id": "9e161ce7",
   "metadata": {},
   "source": [
    "# Image Size"
   ]
  },
  {
   "cell_type": "code",
   "execution_count": 9,
   "id": "6c4b145d",
   "metadata": {},
   "outputs": [
    {
     "name": "stdout",
     "output_type": "stream",
     "text": [
      "1354050\n"
     ]
    }
   ],
   "source": [
    "size=img.size\n",
    "print(size)"
   ]
  },
  {
   "cell_type": "code",
   "execution_count": 10,
   "id": "b769e2e8",
   "metadata": {},
   "outputs": [
    {
     "data": {
      "text/plain": [
       "-1"
      ]
     },
     "execution_count": 10,
     "metadata": {},
     "output_type": "execute_result"
    }
   ],
   "source": [
    "resize=cv2.resize(img,(500,400))\n",
    "cv2.imshow(\"resized image\",resize)\n",
    "cv2.waitKey(0)"
   ]
  },
  {
   "cell_type": "markdown",
   "id": "4b3a9b66",
   "metadata": {},
   "source": [
    "# Image Resize"
   ]
  },
  {
   "cell_type": "code",
   "execution_count": 11,
   "id": "c1ee2802",
   "metadata": {},
   "outputs": [
    {
     "data": {
      "text/plain": [
       "True"
      ]
     },
     "execution_count": 11,
     "metadata": {},
     "output_type": "execute_result"
    }
   ],
   "source": [
    "cv2.imwrite(\"C:/Users/aedur/ANASH_CSE_AI/Assignment-1/resized_image.jpg\",resize)"
   ]
  },
  {
   "cell_type": "markdown",
   "id": "4cbf2a6c",
   "metadata": {},
   "source": [
    "# Image splitting"
   ]
  },
  {
   "cell_type": "code",
   "execution_count": 12,
   "id": "c0062d57",
   "metadata": {},
   "outputs": [
    {
     "data": {
      "text/plain": [
       "-1"
      ]
     },
     "execution_count": 12,
     "metadata": {},
     "output_type": "execute_result"
    }
   ],
   "source": [
    "b,g,r=cv2.split(img)\n",
    "cv2.imshow(\"b\",b)\n",
    "cv2.waitKey(0)\n",
    "cv2.imshow(\"g\",g)\n",
    "cv2.waitKey(0)\n",
    "cv2.imshow(\"r\",r)\n",
    "cv2.waitKey(0)"
   ]
  },
  {
   "cell_type": "code",
   "execution_count": 13,
   "id": "817a6926",
   "metadata": {},
   "outputs": [
    {
     "data": {
      "text/plain": [
       "True"
      ]
     },
     "execution_count": 13,
     "metadata": {},
     "output_type": "execute_result"
    }
   ],
   "source": [
    "cv2.imwrite(\"C:/Users/aedur/ANASH_CSE_AI/Assignment-1/splitting1.jpg\",b)\n",
    "cv2.imwrite(\"C:/Users/aedur/ANASH_CSE_AI/Assignment-1/splitting2.jpg\",g)\n",
    "cv2.imwrite(\"C:/Users/aedur/ANASH_CSE_AI/Assignment-1/splitting3.jpg\",r)"
   ]
  },
  {
   "cell_type": "markdown",
   "id": "a5501098",
   "metadata": {},
   "source": [
    "# Region of Interest"
   ]
  },
  {
   "cell_type": "code",
   "execution_count": 14,
   "id": "4aa22558",
   "metadata": {},
   "outputs": [
    {
     "data": {
      "text/plain": [
       "-1"
      ]
     },
     "execution_count": 14,
     "metadata": {},
     "output_type": "execute_result"
    }
   ],
   "source": [
    "roi=img[0:200,0:200]\n",
    "cv2.imshow(\"ROI\",roi)\n",
    "cv2.waitKey(0)"
   ]
  },
  {
   "cell_type": "code",
   "execution_count": 15,
   "id": "c8fb8d5b",
   "metadata": {},
   "outputs": [
    {
     "data": {
      "text/plain": [
       "True"
      ]
     },
     "execution_count": 15,
     "metadata": {},
     "output_type": "execute_result"
    }
   ],
   "source": [
    "cv2.imwrite(\"C:/Users/aedur/ANASH_CSE_AI/Assignment-1/REGION_OF_INTEREST.jpg\",roi)"
   ]
  },
  {
   "cell_type": "markdown",
   "id": "005809d0",
   "metadata": {},
   "source": [
    "# Merging"
   ]
  },
  {
   "cell_type": "code",
   "execution_count": 16,
   "id": "17efbdcf",
   "metadata": {},
   "outputs": [
    {
     "data": {
      "text/plain": [
       "-1"
      ]
     },
     "execution_count": 16,
     "metadata": {},
     "output_type": "execute_result"
    }
   ],
   "source": [
    "merge=cv2.merge((r,g,b))\n",
    "cv2.imshow(\"Merging\",merge)\n",
    "cv2.waitKey(0)\n"
   ]
  },
  {
   "cell_type": "code",
   "execution_count": 17,
   "id": "ce2579fa",
   "metadata": {},
   "outputs": [
    {
     "data": {
      "text/plain": [
       "True"
      ]
     },
     "execution_count": 17,
     "metadata": {},
     "output_type": "execute_result"
    }
   ],
   "source": [
    "cv2.imwrite(\"C:/Users/aedur/ANASH_CSE_AI/Assignment-1/Merging.jpg\",merge)"
   ]
  },
  {
   "cell_type": "markdown",
   "id": "d0c94454",
   "metadata": {},
   "source": [
    "# Arithmetic Operators"
   ]
  },
  {
   "cell_type": "code",
   "execution_count": 18,
   "id": "696ccbc4",
   "metadata": {},
   "outputs": [],
   "source": [
    "im1=cv2.imread(\"colour.png\")\n",
    "im2=cv2.imread(\"colour2.png\")\n",
    "im3=cv2.imread(\"cl3.png\")"
   ]
  },
  {
   "cell_type": "code",
   "execution_count": 19,
   "id": "0dccc471",
   "metadata": {},
   "outputs": [
    {
     "data": {
      "text/plain": [
       "-1"
      ]
     },
     "execution_count": 19,
     "metadata": {},
     "output_type": "execute_result"
    }
   ],
   "source": [
    "cv2.imshow(\"1\",im1)\n",
    "cv2.waitKey(0)\n",
    "cv2.imshow(\"2\",im2)\n",
    "cv2.waitKey(0)\n",
    "cv2.imshow(\"3\",im3)\n",
    "cv2.waitKey(0)"
   ]
  },
  {
   "cell_type": "code",
   "execution_count": 20,
   "id": "a5a4b510",
   "metadata": {},
   "outputs": [
    {
     "data": {
      "text/plain": [
       "True"
      ]
     },
     "execution_count": 20,
     "metadata": {},
     "output_type": "execute_result"
    }
   ],
   "source": [
    "cv2.imwrite(\"C:/Users/aedur/ANASH_CSE_AI/Assignment-1/image1.jpg\",im1)\n",
    "cv2.imwrite(\"C:/Users/aedur/ANASH_CSE_AI/Assignment-1/image2.jpg\",im2)\n",
    "cv2.imwrite(\"C:/Users/aedur/ANASH_CSE_AI/Assignment-1/image3.jpg\",im3)"
   ]
  },
  {
   "cell_type": "code",
   "execution_count": 21,
   "id": "831ab6d2",
   "metadata": {},
   "outputs": [
    {
     "data": {
      "text/plain": [
       "-1"
      ]
     },
     "execution_count": 21,
     "metadata": {},
     "output_type": "execute_result"
    }
   ],
   "source": [
    "imAdd=cv2.addWeighted(im1,0.5,im2,0.5,1)\n",
    "cv2.imshow(\"imAdd\",imAdd)\n",
    "cv2.waitKey(0)"
   ]
  },
  {
   "cell_type": "code",
   "execution_count": 22,
   "id": "9a352366",
   "metadata": {},
   "outputs": [
    {
     "data": {
      "text/plain": [
       "True"
      ]
     },
     "execution_count": 22,
     "metadata": {},
     "output_type": "execute_result"
    }
   ],
   "source": [
    "cv2.imwrite(\"C:/Users/aedur/ANASH_CSE_AI/Assignment-1/added_image.jpg\",imAdd)"
   ]
  },
  {
   "cell_type": "code",
   "execution_count": 23,
   "id": "cabba4ae",
   "metadata": {},
   "outputs": [
    {
     "data": {
      "text/plain": [
       "-1"
      ]
     },
     "execution_count": 23,
     "metadata": {},
     "output_type": "execute_result"
    }
   ],
   "source": [
    "imsub=cv2.subtract(im1,im3)\n",
    "cv2.imshow(\"sub\",imsub)\n",
    "cv2.waitKey(0)"
   ]
  },
  {
   "cell_type": "code",
   "execution_count": 24,
   "id": "62caa5cf",
   "metadata": {},
   "outputs": [
    {
     "data": {
      "text/plain": [
       "True"
      ]
     },
     "execution_count": 24,
     "metadata": {},
     "output_type": "execute_result"
    }
   ],
   "source": [
    "cv2.imwrite(\"C:/Users/aedur/ANASH_CSE_AI/Assignment-1/subracted_image.jpg\",imsub)\n"
   ]
  },
  {
   "cell_type": "markdown",
   "id": "7c685b3d",
   "metadata": {},
   "source": [
    "# Bitwise Operator"
   ]
  },
  {
   "cell_type": "code",
   "execution_count": 25,
   "id": "d07bc47b",
   "metadata": {},
   "outputs": [],
   "source": [
    "imand=cv2.bitwise_and(im1,im2,mask=None)\n",
    "imor=cv2.bitwise_or(im1,im2,mask=None)\n",
    "imnot=cv2.bitwise_not(im2,mask=None)\n",
    "imxor=cv2.bitwise_xor(im1,im3,mask=None)"
   ]
  },
  {
   "cell_type": "code",
   "execution_count": 26,
   "id": "bf2e2f22",
   "metadata": {},
   "outputs": [
    {
     "data": {
      "text/plain": [
       "-1"
      ]
     },
     "execution_count": 26,
     "metadata": {},
     "output_type": "execute_result"
    }
   ],
   "source": [
    "cv2.imshow(\"and\",imand)\n",
    "cv2.waitKey(0)\n",
    "cv2.imshow(\"or\",imor)\n",
    "cv2.waitKey(0)\n",
    "cv2.imshow(\"not\",imnot)\n",
    "cv2.waitKey(0)\n",
    "cv2.imshow(\"xor\",imxor)\n",
    "cv2.waitKey(0)\n",
    "\n"
   ]
  },
  {
   "cell_type": "code",
   "execution_count": 27,
   "id": "435653da",
   "metadata": {},
   "outputs": [
    {
     "data": {
      "text/plain": [
       "True"
      ]
     },
     "execution_count": 27,
     "metadata": {},
     "output_type": "execute_result"
    }
   ],
   "source": [
    "cv2.imwrite(\"C:/Users/aedur/ANASH_CSE_AI/Assignment-1/And_image.jpg\",imand)\n",
    "cv2.imwrite(\"C:/Users/aedur/ANASH_CSE_AI/Assignment-1/OR_image.jpg\",imor)\n",
    "cv2.imwrite(\"C:/Users/aedur/ANASH_CSE_AI/Assignment-1/NOT_image.jpg\",imnot)\n",
    "cv2.imwrite(\"C:/Users/aedur/ANASH_CSE_AI/Assignment-1/EXOR_image.jpg\",imxor)"
   ]
  },
  {
   "cell_type": "markdown",
   "id": "a2224601",
   "metadata": {},
   "source": [
    "# Imege Smoothening"
   ]
  },
  {
   "cell_type": "code",
   "execution_count": 28,
   "id": "b5ad3ab3",
   "metadata": {},
   "outputs": [
    {
     "data": {
      "text/plain": [
       "-1"
      ]
     },
     "execution_count": 28,
     "metadata": {},
     "output_type": "execute_result"
    }
   ],
   "source": [
    "# average blur\n",
    "avg=cv2.blur(img,(12,12))\n",
    "cv2.imshow(\"average blur\",avg)\n",
    "cv2.waitKey(0)"
   ]
  },
  {
   "cell_type": "code",
   "execution_count": 29,
   "id": "a691bee3",
   "metadata": {},
   "outputs": [
    {
     "data": {
      "text/plain": [
       "True"
      ]
     },
     "execution_count": 29,
     "metadata": {},
     "output_type": "execute_result"
    }
   ],
   "source": [
    "cv2.imwrite(\"C:/Users/aedur/ANASH_CSE_AI/Assignment-1/average_blur_image.jpg\",avg)"
   ]
  },
  {
   "cell_type": "code",
   "execution_count": 30,
   "id": "5935bc29",
   "metadata": {},
   "outputs": [
    {
     "data": {
      "text/plain": [
       "-1"
      ]
     },
     "execution_count": 30,
     "metadata": {},
     "output_type": "execute_result"
    }
   ],
   "source": [
    "# guassian blur\n",
    "gauss=cv2.GaussianBlur(img,(5,5),7)\n",
    "cv2.imshow(\"gaussian blur\",gauss)\n",
    "cv2.waitKey(0)\n"
   ]
  },
  {
   "cell_type": "code",
   "execution_count": 31,
   "id": "61ee925a",
   "metadata": {},
   "outputs": [
    {
     "data": {
      "text/plain": [
       "True"
      ]
     },
     "execution_count": 31,
     "metadata": {},
     "output_type": "execute_result"
    }
   ],
   "source": [
    "cv2.imwrite(\"C:/Users/aedur/ANASH_CSE_AI/Assignment-1/gaussian_blur_image.jpg\",gauss)"
   ]
  },
  {
   "cell_type": "code",
   "execution_count": 32,
   "id": "00dab181",
   "metadata": {},
   "outputs": [
    {
     "data": {
      "text/plain": [
       "-1"
      ]
     },
     "execution_count": 32,
     "metadata": {},
     "output_type": "execute_result"
    }
   ],
   "source": [
    "# median blur\n",
    "median=cv2.medianBlur(img,5)\n",
    "cv2.imshow(\"Median blur\",median)\n",
    "cv2.waitKey(0)\n"
   ]
  },
  {
   "cell_type": "code",
   "execution_count": 33,
   "id": "697fb031",
   "metadata": {},
   "outputs": [
    {
     "data": {
      "text/plain": [
       "True"
      ]
     },
     "execution_count": 33,
     "metadata": {},
     "output_type": "execute_result"
    }
   ],
   "source": [
    "cv2.imwrite(\"C:/Users/aedur/ANASH_CSE_AI/Assignment-1/median_blur_image.jpg\",median)"
   ]
  },
  {
   "cell_type": "code",
   "execution_count": 34,
   "id": "5fab7742",
   "metadata": {},
   "outputs": [
    {
     "data": {
      "text/plain": [
       "-1"
      ]
     },
     "execution_count": 34,
     "metadata": {},
     "output_type": "execute_result"
    }
   ],
   "source": [
    "# bilateral blur\n",
    "bilat=cv2.bilateralFilter(img,60,50,70)\n",
    "cv2.imshow(\"bilateral blur\",bilat)\n",
    "cv2.waitKey(0)"
   ]
  },
  {
   "cell_type": "code",
   "execution_count": 35,
   "id": "c9160b8c",
   "metadata": {},
   "outputs": [
    {
     "data": {
      "text/plain": [
       "True"
      ]
     },
     "execution_count": 35,
     "metadata": {},
     "output_type": "execute_result"
    }
   ],
   "source": [
    "cv2.imwrite(\"C:/Users/aedur/ANASH_CSE_AI/Assignment-1/bilateral_blur_image.jpg\",bilat)"
   ]
  },
  {
   "cell_type": "markdown",
   "id": "74a906fe",
   "metadata": {},
   "source": [
    "# Rotation"
   ]
  },
  {
   "cell_type": "code",
   "execution_count": 36,
   "id": "e40f988a",
   "metadata": {},
   "outputs": [
    {
     "name": "stdout",
     "output_type": "stream",
     "text": [
      "(531, 850, 3)\n",
      "531\n",
      "850\n"
     ]
    }
   ],
   "source": [
    "shape=img.shape\n",
    "print(shape)\n",
    "height,width=img.shape[:2]\n",
    "print(height)\n",
    "print(width)"
   ]
  },
  {
   "cell_type": "code",
   "execution_count": 37,
   "id": "9f505bd0",
   "metadata": {},
   "outputs": [
    {
     "name": "stdout",
     "output_type": "stream",
     "text": [
      "(265.5, 425.0)\n"
     ]
    }
   ],
   "source": [
    "center=(height/2,width/2)\n",
    "print(center)"
   ]
  },
  {
   "cell_type": "code",
   "execution_count": 38,
   "id": "8be5b152",
   "metadata": {},
   "outputs": [
    {
     "name": "stdout",
     "output_type": "stream",
     "text": [
      "[[ 3.061617e-17  5.000000e-01  5.300000e+01]\n",
      " [-5.000000e-01  3.061617e-17  5.577500e+02]]\n"
     ]
    }
   ],
   "source": [
    "rotate=cv2.getRotationMatrix2D(center=center,angle=90,scale=0.5)\n",
    "print(rotate)"
   ]
  },
  {
   "cell_type": "code",
   "execution_count": 39,
   "id": "b53e276e",
   "metadata": {},
   "outputs": [
    {
     "data": {
      "text/plain": [
       "-1"
      ]
     },
     "execution_count": 39,
     "metadata": {},
     "output_type": "execute_result"
    }
   ],
   "source": [
    "rotated_image=cv2.warpAffine(src=img,M=rotate,dsize=(width,height))\n",
    "cv2.imshow(\"rotated\",rotated_image)\n",
    "cv2.waitKey(0)"
   ]
  },
  {
   "cell_type": "code",
   "execution_count": 40,
   "id": "9f0f9473",
   "metadata": {},
   "outputs": [
    {
     "data": {
      "text/plain": [
       "True"
      ]
     },
     "execution_count": 40,
     "metadata": {},
     "output_type": "execute_result"
    }
   ],
   "source": [
    "cv2.imwrite(\"C:/Users/aedur/ANASH_CSE_AI/Assignment-1/rotated_image.jpg\",rotated_image)"
   ]
  },
  {
   "cell_type": "markdown",
   "id": "b162db44",
   "metadata": {},
   "source": [
    "# Image threshold"
   ]
  },
  {
   "cell_type": "code",
   "execution_count": 46,
   "id": "f28a1b43",
   "metadata": {},
   "outputs": [],
   "source": [
    "image=cv2.imread(\"lowlight.jpg\")"
   ]
  },
  {
   "cell_type": "code",
   "execution_count": 47,
   "id": "6aff2587",
   "metadata": {},
   "outputs": [
    {
     "data": {
      "text/plain": [
       "-1"
      ]
     },
     "execution_count": 47,
     "metadata": {},
     "output_type": "execute_result"
    }
   ],
   "source": [
    "cv2.imshow(\"lowlight\",image)\n",
    "cv2.waitKey(0)"
   ]
  },
  {
   "cell_type": "code",
   "execution_count": 48,
   "id": "b9b5fc3c",
   "metadata": {},
   "outputs": [
    {
     "data": {
      "text/plain": [
       "-1"
      ]
     },
     "execution_count": 48,
     "metadata": {},
     "output_type": "execute_result"
    }
   ],
   "source": [
    "grey=cv2.imread(\"lowlight.jpg\",0)\n",
    "cv2.imshow(\"grey\",grey)\n",
    "cv2.waitKey(0)"
   ]
  },
  {
   "cell_type": "code",
   "execution_count": 49,
   "id": "e1dd3bd9",
   "metadata": {},
   "outputs": [],
   "source": [
    "ret,th1=cv2.threshold(grey,50,255,cv2.THRESH_BINARY)\n",
    "ath1=cv2.adaptiveThreshold(grey,255,cv2.ADAPTIVE_THRESH_MEAN_C,cv2.THRESH_BINARY,21,4)\n",
    "ath2=cv2.adaptiveThreshold(grey,255,cv2.ADAPTIVE_THRESH_GAUSSIAN_C,cv2.THRESH_BINARY,21,4)"
   ]
  },
  {
   "cell_type": "code",
   "execution_count": 50,
   "id": "3cbba6d2",
   "metadata": {},
   "outputs": [
    {
     "data": {
      "text/plain": [
       "-1"
      ]
     },
     "execution_count": 50,
     "metadata": {},
     "output_type": "execute_result"
    }
   ],
   "source": [
    "cv2.imshow(\"simple\",th1)\n",
    "cv2.imshow(\"mean\",ath1)\n",
    "cv2.imshow(\"gaussian\",ath2)\n",
    "cv2.waitKey(0)"
   ]
  },
  {
   "cell_type": "code",
   "execution_count": 51,
   "id": "8458c1b0",
   "metadata": {},
   "outputs": [
    {
     "data": {
      "text/plain": [
       "True"
      ]
     },
     "execution_count": 51,
     "metadata": {},
     "output_type": "execute_result"
    }
   ],
   "source": [
    "cv2.imwrite(\"C:/Users/aedur/ANASH_CSE_AI/Assignment-1/threshold_image.jpg\",th1)\n",
    "cv2.imwrite(\"C:/Users/aedur/ANASH_CSE_AI/Assignment-1/adaptive-mean_image.jpg\",ath1)\n",
    "cv2.imwrite(\"C:/Users/aedur/ANASH_CSE_AI/Assignment-1/gaussian-threshold_image.jpg\",ath2)"
   ]
  }
 ],
 "metadata": {
  "kernelspec": {
   "display_name": "Python 3 (ipykernel)",
   "language": "python",
   "name": "python3"
  },
  "language_info": {
   "codemirror_mode": {
    "name": "ipython",
    "version": 3
   },
   "file_extension": ".py",
   "mimetype": "text/x-python",
   "name": "python",
   "nbconvert_exporter": "python",
   "pygments_lexer": "ipython3",
   "version": "3.9.16"
  }
 },
 "nbformat": 4,
 "nbformat_minor": 5
}
