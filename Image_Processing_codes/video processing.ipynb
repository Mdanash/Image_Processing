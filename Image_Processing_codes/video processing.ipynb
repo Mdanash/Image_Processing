{
 "cells": [
  {
   "cell_type": "code",
   "execution_count": 1,
   "id": "4158d858",
   "metadata": {},
   "outputs": [],
   "source": [
    "import cv2\n",
    "import numpy as np"
   ]
  },
  {
   "cell_type": "markdown",
   "id": "6c4931a8",
   "metadata": {},
   "source": [
    "# Video Read"
   ]
  },
  {
   "cell_type": "code",
   "execution_count": 2,
   "id": "65007be6",
   "metadata": {},
   "outputs": [],
   "source": [
    "video=cv2.VideoCapture(\"nature2.mp4\")"
   ]
  },
  {
   "cell_type": "code",
   "execution_count": 3,
   "id": "991c9bef",
   "metadata": {},
   "outputs": [],
   "source": [
    "#Dispalying the video\n",
    "while(video.isOpened()):\n",
    "    ret,frame=video.read()\n",
    "    cv2.imshow('original',frame)\n",
    "    if cv2.waitKey(1)&0xFF==ord('q'):\n",
    "        break\n",
    "video.release()\n",
    "cv2.destroyAllWindows()"
   ]
  },
  {
   "cell_type": "markdown",
   "id": "3f28fd97",
   "metadata": {},
   "source": [
    " #  Web Cam"
   ]
  },
  {
   "cell_type": "code",
   "execution_count": 5,
   "id": "db333cef",
   "metadata": {},
   "outputs": [],
   "source": [
    "web=cv2.VideoCapture(0)"
   ]
  },
  {
   "cell_type": "code",
   "execution_count": 6,
   "id": "7003e5f6",
   "metadata": {},
   "outputs": [],
   "source": [
    "while(web.isOpened()):\n",
    "    ret,frame=web.read()\n",
    "    cv2.imshow('original',frame)\n",
    "    if cv2.waitKey(1)&0xFF==ord('q'):\n",
    "        break\n",
    "web.release()\n",
    "cv2.destroyAllWindows()"
   ]
  },
  {
   "cell_type": "code",
   "execution_count": null,
   "id": "69284987",
   "metadata": {},
   "outputs": [],
   "source": []
  }
 ],
 "metadata": {
  "kernelspec": {
   "display_name": "Python 3 (ipykernel)",
   "language": "python",
   "name": "python3"
  },
  "language_info": {
   "codemirror_mode": {
    "name": "ipython",
    "version": 3
   },
   "file_extension": ".py",
   "mimetype": "text/x-python",
   "name": "python",
   "nbconvert_exporter": "python",
   "pygments_lexer": "ipython3",
   "version": "3.9.16"
  }
 },
 "nbformat": 4,
 "nbformat_minor": 5
}
