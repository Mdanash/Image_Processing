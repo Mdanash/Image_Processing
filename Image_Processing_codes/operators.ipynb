{
 "cells": [
  {
   "cell_type": "markdown",
   "id": "fd02b948",
   "metadata": {},
   "source": [
    "# Arithmetic Operation "
   ]
  },
  {
   "cell_type": "code",
   "execution_count": 1,
   "id": "d0e49331",
   "metadata": {},
   "outputs": [],
   "source": [
    "import cv2"
   ]
  },
  {
   "cell_type": "code",
   "execution_count": 2,
   "id": "4077055e",
   "metadata": {},
   "outputs": [],
   "source": [
    "import numpy as nump"
   ]
  },
  {
   "cell_type": "code",
   "execution_count": 3,
   "id": "9c932391",
   "metadata": {},
   "outputs": [],
   "source": [
    "im1=cv2.imread(\"colour.png\")\n",
    "im2=cv2.imread(\"colour2.png\")\n",
    "im3=cv2.imread(\"cl3.png\")"
   ]
  },
  {
   "cell_type": "code",
   "execution_count": 4,
   "id": "c9b7ee4e",
   "metadata": {},
   "outputs": [],
   "source": [
    "cv2.imshow(\"1\",im1)\n",
    "cv2.waitKey(0)\n",
    "cv2.imshow(\"2\",im2)\n",
    "cv2.waitKey(0)\n",
    "cv2.imshow(\"3\",im3)\n",
    "cv2.waitKey(0)\n",
    "cv2.destroyAllWindows()"
   ]
  },
  {
   "cell_type": "code",
   "execution_count": 5,
   "id": "7b57cc8e",
   "metadata": {},
   "outputs": [],
   "source": [
    "imAdd=cv2.addWeighted(im1,0.5,im2,0.5,1)"
   ]
  },
  {
   "cell_type": "code",
   "execution_count": 6,
   "id": "199931f1",
   "metadata": {},
   "outputs": [],
   "source": [
    "cv2.imshow(\"1\",im1)\n",
    "cv2.waitKey(0)\n",
    "cv2.imshow(\"2\",im2)\n",
    "cv2.waitKey(0)\n",
    "cv2.imshow(\"imAdd\",imAdd)\n",
    "cv2.waitKey(0)\n",
    "cv2.destroyAllWindows()"
   ]
  },
  {
   "cell_type": "code",
   "execution_count": 7,
   "id": "a534bfe6",
   "metadata": {},
   "outputs": [],
   "source": [
    "imsub=cv2.subtract(im1,im3)"
   ]
  },
  {
   "cell_type": "code",
   "execution_count": 8,
   "id": "96e557ba",
   "metadata": {},
   "outputs": [],
   "source": [
    "cv2.imshow(\"1\",im1)\n",
    "cv2.waitKey(0)\n",
    "cv2.imshow(\"2\",im3)\n",
    "cv2.waitKey(0)\n",
    "cv2.imshow(\"sub\",imsub)\n",
    "cv2.waitKey(0)\n",
    "cv2.destroyAllWindows()\n"
   ]
  },
  {
   "cell_type": "markdown",
   "id": "d57887c5",
   "metadata": {},
   "source": [
    "# Bitwise Operators"
   ]
  },
  {
   "cell_type": "code",
   "execution_count": 9,
   "id": "cf46fa49",
   "metadata": {},
   "outputs": [],
   "source": [
    "imand=cv2.bitwise_and(im1,im2,mask=None)"
   ]
  },
  {
   "cell_type": "code",
   "execution_count": 10,
   "id": "051effbc",
   "metadata": {},
   "outputs": [],
   "source": [
    "cv2.imshow(\"1\",im1)\n",
    "cv2.waitKey(0)\n",
    "cv2.imshow(\"2\",im2)\n",
    "cv2.waitKey(0)\n",
    "cv2.imshow(\"and\",imand)\n",
    "cv2.waitKey(0)\n",
    "cv2.destroyAllWindows()"
   ]
  },
  {
   "cell_type": "code",
   "execution_count": 11,
   "id": "34e90aaf",
   "metadata": {},
   "outputs": [],
   "source": [
    "imor=cv2.bitwise_or(im1,im2,mask=None)"
   ]
  },
  {
   "cell_type": "code",
   "execution_count": 12,
   "id": "5a2c6202",
   "metadata": {},
   "outputs": [],
   "source": [
    "cv2.imshow(\"1\",im1)\n",
    "cv2.waitKey(0)\n",
    "cv2.imshow(\"2\",im2)\n",
    "cv2.waitKey(0)\n",
    "cv2.imshow(\"or\",imor)\n",
    "cv2.waitKey(0)\n",
    "cv2.destroyAllWindows()"
   ]
  },
  {
   "cell_type": "code",
   "execution_count": 13,
   "id": "5da769ed",
   "metadata": {},
   "outputs": [],
   "source": [
    "imnot=cv2.bitwise_not(im2,mask=None)"
   ]
  },
  {
   "cell_type": "code",
   "execution_count": 14,
   "id": "987141ef",
   "metadata": {},
   "outputs": [
    {
     "data": {
      "text/plain": [
       "-1"
      ]
     },
     "execution_count": 14,
     "metadata": {},
     "output_type": "execute_result"
    }
   ],
   "source": [
    "cv2.imshow(\"2\",im2)\n",
    "cv2.waitKey(0)\n",
    "cv2.imshow(\"not\",imnot)\n",
    "cv2.waitKey(0)"
   ]
  },
  {
   "cell_type": "code",
   "execution_count": 15,
   "id": "56bd0f48",
   "metadata": {},
   "outputs": [],
   "source": [
    "imxor=cv2.bitwise_xor(im1,im3,mask=None)"
   ]
  },
  {
   "cell_type": "code",
   "execution_count": 16,
   "id": "826bcb89",
   "metadata": {},
   "outputs": [],
   "source": [
    "cv2.imshow(\"1\",im2)\n",
    "cv2.waitKey(0)\n",
    "cv2.imshow(\"3\",im3)\n",
    "cv2.waitKey(0)\n",
    "cv2.imshow(\"xor\",imxor)\n",
    "cv2.waitKey(0)\n",
    "cv2.destroyAllWindows()"
   ]
  },
  {
   "cell_type": "markdown",
   "id": "ae583551",
   "metadata": {},
   "source": [
    "# Region Of Intrest\n"
   ]
  },
  {
   "cell_type": "code",
   "execution_count": 17,
   "id": "dde6516e",
   "metadata": {},
   "outputs": [],
   "source": [
    "img4=cv2.imread(\"Untitled.png\")"
   ]
  },
  {
   "cell_type": "code",
   "execution_count": 18,
   "id": "1f3deddc",
   "metadata": {},
   "outputs": [
    {
     "name": "stdout",
     "output_type": "stream",
     "text": [
      "(100, 100, 3)\n"
     ]
    }
   ],
   "source": [
    "shp=img4.shape\n",
    "print(shp)"
   ]
  },
  {
   "cell_type": "code",
   "execution_count": 19,
   "id": "48436393",
   "metadata": {},
   "outputs": [],
   "source": [
    "cv2.imshow(\"image\",img4)\n",
    "cv2.waitKey(0)\n",
    "cv2.destroyAllWindows()"
   ]
  },
  {
   "cell_type": "code",
   "execution_count": 20,
   "id": "e54a4339",
   "metadata": {},
   "outputs": [],
   "source": [
    "roi=img4[0:20,0:20]"
   ]
  },
  {
   "cell_type": "code",
   "execution_count": 21,
   "id": "5a056088",
   "metadata": {},
   "outputs": [],
   "source": [
    "cv2.imshow(\"ROI\",roi)\n",
    "cv2.waitKey(0)\n",
    "cv2.destroyAllWindows()"
   ]
  },
  {
   "cell_type": "code",
   "execution_count": 22,
   "id": "71f633b5",
   "metadata": {},
   "outputs": [
    {
     "data": {
      "text/plain": [
       "True"
      ]
     },
     "execution_count": 22,
     "metadata": {},
     "output_type": "execute_result"
    }
   ],
   "source": [
    "cv2.imwrite(\"ROI.png\",roi)"
   ]
  },
  {
   "cell_type": "code",
   "execution_count": null,
   "id": "bde2bb81",
   "metadata": {},
   "outputs": [],
   "source": []
  }
 ],
 "metadata": {
  "kernelspec": {
   "display_name": "Python 3 (ipykernel)",
   "language": "python",
   "name": "python3"
  },
  "language_info": {
   "codemirror_mode": {
    "name": "ipython",
    "version": 3
   },
   "file_extension": ".py",
   "mimetype": "text/x-python",
   "name": "python",
   "nbconvert_exporter": "python",
   "pygments_lexer": "ipython3",
   "version": "3.9.16"
  }
 },
 "nbformat": 4,
 "nbformat_minor": 5
}
