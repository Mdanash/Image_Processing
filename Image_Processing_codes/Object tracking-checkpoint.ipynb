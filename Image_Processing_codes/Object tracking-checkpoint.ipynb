{
 "cells": [
  {
   "cell_type": "code",
   "execution_count": 1,
   "id": "f64482fd",
   "metadata": {},
   "outputs": [],
   "source": [
    "#pip install opencv-contrib-python"
   ]
  },
  {
   "cell_type": "code",
   "execution_count": 2,
   "id": "d763521d",
   "metadata": {},
   "outputs": [],
   "source": [
    "import cv2"
   ]
  },
  {
   "cell_type": "code",
   "execution_count": 3,
   "id": "e0730480",
   "metadata": {},
   "outputs": [],
   "source": [
    "cap=cv2.VideoCapture(\"interview.mp4\")"
   ]
  },
  {
   "cell_type": "markdown",
   "id": "331aa5ed",
   "metadata": {},
   "source": [
    "###  BOUNDING BOX"
   ]
  },
  {
   "cell_type": "code",
   "execution_count": 4,
   "id": "0b004c93",
   "metadata": {},
   "outputs": [],
   "source": [
    "def drawbox(img,box):\n",
    "    x,y,w,h=int(box[0]),int(box[1]),int(box[2]),int(box[3])\n",
    "    cv2.rectangle(img,(x,y),((x+w),(y+h)),(0,0,255),2)\n",
    "    cv2.putText(img,\"acd\",(75,75),cv2.FONT_HERSHEY_SIMPLEX,0.7,(0,255,0),2)"
   ]
  },
  {
   "cell_type": "markdown",
   "id": "27e75bbd",
   "metadata": {},
   "source": [
    "##  Tracking Methods"
   ]
  },
  {
   "cell_type": "code",
   "execution_count": 5,
   "id": "95e9aae7",
   "metadata": {},
   "outputs": [],
   "source": [
    "#tracker=cv2.legacy.TrackerMedianFlow_create()\n",
    "tracker=cv2.TrackerCSRT_create()\n",
    "#tracker=cv2.legacy.TrackerMOSSE_create()\n",
    "success,img=cap.read()\n",
    "box=cv2.selectROI(\"kholi\",img,False)\n",
    "tracker.init(img,box)\n",
    "\n",
    "while True:\n",
    "    timer=cv2.getTickCount()\n",
    "    success,img=cap.read()\n",
    "    success,box=tracker.update(img)\n",
    "    \n",
    "    if success:\n",
    "        drawbox(img,box)\n",
    "    else:\n",
    "        cv2.putText(img,\"LOST\",(75,75),cv2.FONT_HERSHEY_SIMPLEX,0.5,(0,0,255),2)\n",
    "    fps=cv2.getTickFrequency()/(cv2.getTickCount()-timer)\n",
    "    cv2.putText(img,str(int(fps)),(75,50),cv2.FONT_HERSHEY_SIMPLEX,0.7,(0,0,255),2)\n",
    "    \n",
    "    cv2.imshow(\"tracking\",img)\n",
    "        \n",
    "    if cv2.waitKey(1)& 0xff==ord('a'):\n",
    "        break\n",
    "cap.release()\n",
    "cv2.destroyAllWindows()"
   ]
  }
 ],
 "metadata": {
  "kernelspec": {
   "display_name": "Python 3 (ipykernel)",
   "language": "python",
   "name": "python3"
  },
  "language_info": {
   "codemirror_mode": {
    "name": "ipython",
    "version": 3
   },
   "file_extension": ".py",
   "mimetype": "text/x-python",
   "name": "python",
   "nbconvert_exporter": "python",
   "pygments_lexer": "ipython3",
   "version": "3.9.16"
  }
 },
 "nbformat": 4,
 "nbformat_minor": 5
}
