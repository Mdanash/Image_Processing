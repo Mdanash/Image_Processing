{
 "cells": [
  {
   "cell_type": "markdown",
   "id": "9e519d76",
   "metadata": {},
   "source": [
    "# Rotation"
   ]
  },
  {
   "cell_type": "code",
   "execution_count": 1,
   "id": "40fa8bac",
   "metadata": {},
   "outputs": [],
   "source": [
    "import cv2\n",
    "import numpy as np"
   ]
  },
  {
   "cell_type": "code",
   "execution_count": 2,
   "id": "67e22e8c",
   "metadata": {},
   "outputs": [],
   "source": [
    "img=cv2.imread(\"root.jpg\")"
   ]
  },
  {
   "cell_type": "code",
   "execution_count": 3,
   "id": "9e092b51",
   "metadata": {},
   "outputs": [
    {
     "data": {
      "text/plain": [
       "-1"
      ]
     },
     "execution_count": 3,
     "metadata": {},
     "output_type": "execute_result"
    }
   ],
   "source": [
    "cv2.imshow(\"image\",img)\n",
    "cv2.waitKey(0)"
   ]
  },
  {
   "cell_type": "code",
   "execution_count": 4,
   "id": "ca82c05f",
   "metadata": {},
   "outputs": [
    {
     "name": "stdout",
     "output_type": "stream",
     "text": [
      "(530, 800, 3)\n",
      "530\n",
      "800\n"
     ]
    }
   ],
   "source": [
    "shape=img.shape\n",
    "print(shape)\n",
    "height,width=img.shape[:2]\n",
    "print(height)\n",
    "print(width)"
   ]
  },
  {
   "cell_type": "code",
   "execution_count": 5,
   "id": "d2c1dc0b",
   "metadata": {},
   "outputs": [
    {
     "name": "stdout",
     "output_type": "stream",
     "text": [
      "(265.0, 400.0)\n"
     ]
    }
   ],
   "source": [
    "center=(height/2,width/2)\n",
    "print(center)"
   ]
  },
  {
   "cell_type": "code",
   "execution_count": 6,
   "id": "2ae989c5",
   "metadata": {},
   "outputs": [
    {
     "name": "stdout",
     "output_type": "stream",
     "text": [
      "[[ 3.061617e-17  5.000000e-01  6.500000e+01]\n",
      " [-5.000000e-01  3.061617e-17  5.325000e+02]]\n"
     ]
    }
   ],
   "source": [
    "# using cv2.getRotationMatrix2D to get rotation matrix\n",
    "rotate=cv2.getRotationMatrix2D(center=center,angle=90,scale=0.5)\n",
    "print(rotate)"
   ]
  },
  {
   "cell_type": "code",
   "execution_count": 7,
   "id": "e2aca53a",
   "metadata": {},
   "outputs": [
    {
     "data": {
      "text/plain": [
       "-1"
      ]
     },
     "execution_count": 7,
     "metadata": {},
     "output_type": "execute_result"
    }
   ],
   "source": [
    "# rotate the image using cv2.warpfAffine\n",
    "rotated_image=cv2.warpAffine(src=img,M=rotate,dsize=(width,height))\n",
    "cv2.imshow(\"original\",img)\n",
    "cv2.waitKey(0)\n",
    "cv2.imshow(\"rotated\",rotated_image)\n",
    "cv2.waitKey(0)"
   ]
  },
  {
   "cell_type": "markdown",
   "id": "c5909eae",
   "metadata": {},
   "source": [
    "# Tranlation"
   ]
  },
  {
   "cell_type": "code",
   "execution_count": 8,
   "id": "4818f6cc",
   "metadata": {},
   "outputs": [],
   "source": [
    "tx,ty=width/100,height/100"
   ]
  },
  {
   "cell_type": "code",
   "execution_count": 9,
   "id": "1f63a548",
   "metadata": {},
   "outputs": [],
   "source": [
    "translation=np.array([[1,0,tx],[0,1,ty]])"
   ]
  },
  {
   "cell_type": "code",
   "execution_count": 10,
   "id": "136ea1d2",
   "metadata": {},
   "outputs": [],
   "source": [
    "translationed=cv2.warpAffine(src=img,M=translation,dsize=(width,height))"
   ]
  },
  {
   "cell_type": "code",
   "execution_count": 11,
   "id": "979ac2ec",
   "metadata": {},
   "outputs": [
    {
     "data": {
      "text/plain": [
       "-1"
      ]
     },
     "execution_count": 11,
     "metadata": {},
     "output_type": "execute_result"
    }
   ],
   "source": [
    "cv2.imshow(\"trans\",translationed)\n",
    "cv2.waitKey(0)"
   ]
  },
  {
   "cell_type": "code",
   "execution_count": null,
   "id": "6414fa3c",
   "metadata": {},
   "outputs": [],
   "source": []
  }
 ],
 "metadata": {
  "kernelspec": {
   "display_name": "Python 3 (ipykernel)",
   "language": "python",
   "name": "python3"
  },
  "language_info": {
   "codemirror_mode": {
    "name": "ipython",
    "version": 3
   },
   "file_extension": ".py",
   "mimetype": "text/x-python",
   "name": "python",
   "nbconvert_exporter": "python",
   "pygments_lexer": "ipython3",
   "version": "3.9.16"
  }
 },
 "nbformat": 4,
 "nbformat_minor": 5
}
