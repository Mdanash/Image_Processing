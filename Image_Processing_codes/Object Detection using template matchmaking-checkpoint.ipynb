{
 "cells": [
  {
   "cell_type": "markdown",
   "id": "e480be96",
   "metadata": {},
   "source": [
    "###  Object Detection using template matchmaking"
   ]
  },
  {
   "cell_type": "code",
   "execution_count": 1,
   "id": "08bfce7a",
   "metadata": {},
   "outputs": [],
   "source": [
    "import cv2\n",
    "import numpy as np\n",
    "from matplotlib import pyplot as plt"
   ]
  },
  {
   "cell_type": "code",
   "execution_count": 2,
   "id": "14c373e7",
   "metadata": {},
   "outputs": [],
   "source": [
    "img1=cv2.imread(\"team.jpg\")\n",
    "gray=cv2.cvtColor(img1,cv2.COLOR_BGR2GRAY)\n",
    "template=cv2.imread(\"image1.jpg\",0)"
   ]
  },
  {
   "cell_type": "code",
   "execution_count": 3,
   "id": "c754797b",
   "metadata": {},
   "outputs": [],
   "source": [
    "height,width=template.shape[::]\n",
    "match=cv2.matchTemplate(gray,template,cv2.TM_SQDIFF)\n",
    "min_val,max_val,min_loc,max_loc=cv2.minMaxLoc(match)\n",
    "top_left=min_loc\n",
    "bottom_right=(top_left[0]+width,top_left[1]+height)\n",
    "cv2.rectangle(img1,top_left,bottom_right,(0,0,255),2)\n",
    "cv2.imshow(\"matched image\",img1)\n",
    "cv2.waitKey(0)\n",
    "cv2.destroyAllWindows()"
   ]
  },
  {
   "cell_type": "code",
   "execution_count": null,
   "id": "654ef7db",
   "metadata": {},
   "outputs": [],
   "source": []
  }
 ],
 "metadata": {
  "kernelspec": {
   "display_name": "Python 3 (ipykernel)",
   "language": "python",
   "name": "python3"
  },
  "language_info": {
   "codemirror_mode": {
    "name": "ipython",
    "version": 3
   },
   "file_extension": ".py",
   "mimetype": "text/x-python",
   "name": "python",
   "nbconvert_exporter": "python",
   "pygments_lexer": "ipython3",
   "version": "3.9.16"
  }
 },
 "nbformat": 4,
 "nbformat_minor": 5
}
