{
 "cells": [
  {
   "cell_type": "code",
   "execution_count": 12,
   "id": "3419c0b7",
   "metadata": {},
   "outputs": [],
   "source": [
    "import cv2\n",
    "import numpy as np"
   ]
  },
  {
   "cell_type": "code",
   "execution_count": 17,
   "id": "4146df35",
   "metadata": {},
   "outputs": [],
   "source": [
    "cap=cv2.VideoCapture(\"videoplayback.mp4\")"
   ]
  },
  {
   "cell_type": "code",
   "execution_count": 18,
   "id": "5ee8c038",
   "metadata": {},
   "outputs": [],
   "source": [
    "ret,frame=cap.read()\n",
    "prv=cv2.cvtColor(frame,cv2.COLOR_BGR2GRAY)\n"
   ]
  },
  {
   "cell_type": "code",
   "execution_count": 19,
   "id": "b29a7aae",
   "metadata": {},
   "outputs": [],
   "source": [
    "#Zero Matrix\n",
    "hsv=np.zeros_like(frame)\n",
    "hsv[...,1]=255"
   ]
  },
  {
   "cell_type": "code",
   "execution_count": 20,
   "id": "97a417a1",
   "metadata": {
    "scrolled": true
   },
   "outputs": [
    {
     "name": "stderr",
     "output_type": "stream",
     "text": [
      "C:\\Users\\admin\\AppData\\Local\\Temp\\ipykernel_6816\\1434668926.py:7: RuntimeWarning: invalid value encountered in cast\n",
      "  hsv[...,2]=cv2.normalize(mag,None,0,255,cv2.NORM_MINMAX)\n"
     ]
    }
   ],
   "source": [
    "while True: \n",
    "    ret,fra=cap.read()\n",
    "    next=cv2.cvtColor(fra,cv2.COLOR_BGR2GRAY)\n",
    "    flow=cv2.calcOpticalFlowFarneback(prv,next,None,0.5,3,15,3,5,1.2,0)\n",
    "    mag,ang=cv2.cartToPolar(flow[...,0],flow[...,1])\n",
    "    hsv[...,0]=ang*180/np.pi/2\n",
    "    hsv[...,2]=cv2.normalize(mag,None,0,255,cv2.NORM_MINMAX)\n",
    "    rgb=cv2.cvtColor(hsv,cv2.COLOR_HSV2BGR)\n",
    "    cv2.imshow('frame',rgb)\n",
    "    if cv2.waitKey(30)&0xff==ord('a'):\n",
    "         break\n",
    "    prv=next\n",
    "cap.release()\n",
    "cv2.destroyAllWindows()"
   ]
  }
 ],
 "metadata": {
  "kernelspec": {
   "display_name": "Python 3 (ipykernel)",
   "language": "python",
   "name": "python3"
  },
  "language_info": {
   "codemirror_mode": {
    "name": "ipython",
    "version": 3
   },
   "file_extension": ".py",
   "mimetype": "text/x-python",
   "name": "python",
   "nbconvert_exporter": "python",
   "pygments_lexer": "ipython3",
   "version": "3.9.16"
  }
 },
 "nbformat": 4,
 "nbformat_minor": 5
}
